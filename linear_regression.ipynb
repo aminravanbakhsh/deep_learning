{
 "cells": [
  {
   "attachments": {},
   "cell_type": "markdown",
   "metadata": {},
   "source": [
    "# Imports"
   ]
  },
  {
   "cell_type": "code",
   "execution_count": 6,
   "metadata": {},
   "outputs": [],
   "source": [
    "import numpy as np\n",
    "import torch\n",
    "import torch.nn as nn\n",
    "from torch.utils.data import TensorDataset, DataLoader"
   ]
  },
  {
   "attachments": {},
   "cell_type": "markdown",
   "metadata": {},
   "source": [
    "# Data\n",
    "\n",
    "$ \n",
    "y0 = 3.4  x_{0} - 1.2 x_{2} \\\\\n",
    "y1 = 2.7 x_{1} + 4.5\n",
    "$"
   ]
  },
  {
   "cell_type": "code",
   "execution_count": 7,
   "metadata": {},
   "outputs": [],
   "source": [
    "n_data = 20\n",
    "n_f = 3\n",
    "n_o = 2\n",
    "\n",
    "x = np.random.uniform(-10, 10, (n_data, n_f))\n",
    "w0 = np.array([[3.4, 0, -1.2], [0,2.7,0]])\n",
    "b0 = np.array([0, 4.5])\n",
    "t = np.dot(x, w0.T) + b0\n",
    "\n",
    "x = torch.tensor(x)\n",
    "t = torch.tensor(t)"
   ]
  },
  {
   "attachments": {},
   "cell_type": "markdown",
   "metadata": {},
   "source": [
    "# Creating a linear regression from scratch"
   ]
  },
  {
   "cell_type": "code",
   "execution_count": 8,
   "metadata": {},
   "outputs": [],
   "source": [
    "class Linear_Regression:\n",
    "    def __init__(self, n_features, n_outputs) -> None:\n",
    "        self.n_f = n_features\n",
    "        self.n_o = n_outputs\n",
    "        self.w = torch.rand((self.n_o, self.n_f), dtype=torch.float64, requires_grad=True)\n",
    "        self.b = torch.rand(self.n_o, dtype=torch.float64, requires_grad=True)\n",
    "\n",
    "    def predict(self, x):\n",
    "        return torch.matmul(x, self.w.T) + self.b\n",
    "\n",
    "    def MSE(self, t, y):\n",
    "        diff = t - y\n",
    "        return torch.sum(diff * diff) / diff.numel()\n",
    "\n",
    "    def train(self, x, t, n_epochs, lr):\n",
    "        for e in range(n_epochs):\n",
    "            y = self.predict(x)\n",
    "            loss = self.MSE(t, y)\n",
    "            loss.backward()\n",
    "            with torch.no_grad():\n",
    "                self.w -= self.w.grad * lr\n",
    "                self.b -= self.b.grad * lr\n",
    "                self.w.grad.zero_()\n",
    "                self.b.grad.zero_()\n",
    "\n",
    "    def show_weights(self):\n",
    "        print(\"equation\")\n",
    "\n",
    "        for i in range(self.n_o):\n",
    "            equation = \"    y[{}] = \".format(i)\n",
    "            for j in range(self.n_f):\n",
    "                op = \"+\"\n",
    "                if self.w[i][j] < 0:\n",
    "                    op = \"-\"\n",
    "\n",
    "                equation += \" {}{:.4f} * x[{}]\".format(op, torch.abs(self.w[i][j]), j)\n",
    "\n",
    "            op = \"+\"\n",
    "            if self.b[i] < 0:\n",
    "                op = \"-\"\n",
    "                \n",
    "            \n",
    "            equation += \" {}{:.4f}\".format(op, torch.abs(self.b[i]))\n",
    "        \n",
    "            print(equation)\n"
   ]
  },
  {
   "cell_type": "code",
   "execution_count": 137,
   "metadata": {},
   "outputs": [
    {
     "name": "stdout",
     "output_type": "stream",
     "text": [
      "equation\n",
      "    y[0] =  +3.4022 * x[0] -0.0010 * x[1] -1.2021 * x[2] +0.0634\n",
      "    y[1] =  -0.0495 * x[0] +2.7224 * x[1] +0.0465 * x[2] +3.0915\n"
     ]
    }
   ],
   "source": [
    "LR = Linear_Regression(3, 2)\n",
    "LR.train(x,t, 1000, 0.001)\n",
    "LR.show_weights()"
   ]
  },
  {
   "attachments": {},
   "cell_type": "markdown",
   "metadata": {},
   "source": [
    "# Linear Regression by PyTorch"
   ]
  },
  {
   "cell_type": "code",
   "execution_count": 42,
   "metadata": {},
   "outputs": [],
   "source": [
    "train_ds = TensorDataset(x, t)\n",
    "train_dl = DataLoader(train_ds, 5, shuffle=True)"
   ]
  },
  {
   "cell_type": "code",
   "execution_count": 43,
   "metadata": {},
   "outputs": [
    {
     "name": "stdout",
     "output_type": "stream",
     "text": [
      "tensor([[-3.9081,  0.6804, -8.5044],\n",
      "        [ 6.5973,  2.2366,  4.6929],\n",
      "        [ 5.4197, -2.3071,  7.9853],\n",
      "        [-2.9788, -5.4418, -3.0292],\n",
      "        [-9.5052, -0.5815, -2.4114]], dtype=torch.float64)\n",
      "tensor([[ -3.0824,   6.3371],\n",
      "        [ 16.7993,  10.5387],\n",
      "        [  8.8447,  -1.7292],\n",
      "        [ -6.4928, -10.1928],\n",
      "        [-29.4240,   2.9300]], dtype=torch.float64)\n",
      "tensor([[ 3.5867,  7.9980, -5.8941],\n",
      "        [-0.0957,  6.3610,  9.5457],\n",
      "        [ 2.1498,  2.0023,  6.2305],\n",
      "        [ 1.6127,  4.6527,  3.9627],\n",
      "        [-4.4089, -1.2756, -0.2973]], dtype=torch.float64)\n",
      "tensor([[ 19.2678,  26.0946],\n",
      "        [-11.7802,  21.6746],\n",
      "        [ -0.1672,   9.9061],\n",
      "        [  0.7279,  17.0622],\n",
      "        [-14.6335,   1.0559]], dtype=torch.float64)\n",
      "tensor([[ 8.9400, -5.6465, -2.5049],\n",
      "        [-4.2481,  2.7452, -1.2053],\n",
      "        [-6.8211, -8.3035,  8.8300],\n",
      "        [-5.7131, -7.7521, -2.1461],\n",
      "        [-4.5491, -9.3307,  4.4210]], dtype=torch.float64)\n",
      "tensor([[ 33.4020, -10.7455],\n",
      "        [-12.9971,  11.9121],\n",
      "        [-33.7877, -17.9194],\n",
      "        [-16.8490, -16.4308],\n",
      "        [-20.7722, -20.6928]], dtype=torch.float64)\n",
      "tensor([[ 2.0088, -4.9196, -6.5997],\n",
      "        [-1.6129,  0.4235,  3.4329],\n",
      "        [-8.5018,  4.2985, -0.4929],\n",
      "        [ 8.3174,  6.7956, -5.5402],\n",
      "        [-5.0840, -1.8392, -0.2134]], dtype=torch.float64)\n",
      "tensor([[ 14.7494,  -8.7829],\n",
      "        [ -9.6032,   5.6434],\n",
      "        [-28.3147,  16.1060],\n",
      "        [ 34.9272,  22.8481],\n",
      "        [-17.0295,  -0.4658]], dtype=torch.float64)\n"
     ]
    }
   ],
   "source": [
    "for xs, ys in train_dl:\n",
    "    print(xs)\n",
    "    print(ys)"
   ]
  },
  {
   "cell_type": "code",
   "execution_count": 66,
   "metadata": {},
   "outputs": [],
   "source": [
    "class Linear_Regression_PyTorch:\n",
    "    def __init__(self, n_features, n_outputs) -> None:\n",
    "        self.n_f = n_features\n",
    "        self.n_o = n_outputs\n",
    "        self.model = nn.Linear(self.n_f, self.n_o, dtype=torch.float64)\n",
    "\n",
    "\n",
    "    def predict(self, x):\n",
    "        return self.model(x)\n",
    "\n",
    "\n",
    "    def train(self, x, t, n_epochs, batch_size, lr):\n",
    "        train_ds = TensorDataset(x, t)\n",
    "        train_dl = DataLoader(train_ds, batch_size, shuffle=True)\n",
    "        opt = torch.optim.SGD(self.model.parameters(), lr=lr)\n",
    "\n",
    "        for e in range(n_epochs):\n",
    "            for xs, ts in train_dl:\n",
    "                ys = self.model(xs)\n",
    "                loss = torch.nn.functional.mse_loss(ys, ts)\n",
    "                loss.backward()\n",
    "                opt.step()\n",
    "                opt.zero_grad()\n",
    "\n",
    "            if (e + 1) % (n_epochs/10) == 0:\n",
    "                print('Epoch [{}/{}], Loss: {:.4f}'.format(e+1, n_epochs, loss.item()))\n",
    "\n",
    "\n",
    "    def show_weights(self):\n",
    "        print(\"equation\")\n",
    "        w = self.model.weight\n",
    "        b = self.model.bias\n",
    "\n",
    "        for i in range(self.n_o):\n",
    "            equation = \"    y[{}] =\".format(i)\n",
    "            for j in range(self.n_f):\n",
    "                op = \"+\"\n",
    "                if w[i][j] < 0:\n",
    "                    op = \"-\"\n",
    "\n",
    "                equation += \" {}{:.4f} * x[{}]\".format(op, torch.abs(w[i][j]), j)\n",
    "\n",
    "            op = \"+\"\n",
    "            if b[i] < 0:\n",
    "                op = \"-\"\n",
    "                \n",
    "            \n",
    "            equation += \" {}{:.4f}\".format(op, torch.abs(b[i]))\n",
    "        \n",
    "            print(equation)"
   ]
  },
  {
   "cell_type": "code",
   "execution_count": 67,
   "metadata": {},
   "outputs": [
    {
     "name": "stdout",
     "output_type": "stream",
     "text": [
      "Epoch [100/1000], Loss: 5.6574\n",
      "Epoch [200/1000], Loss: 1.7916\n",
      "Epoch [300/1000], Loss: 0.9735\n",
      "Epoch [400/1000], Loss: 0.5780\n",
      "Epoch [500/1000], Loss: 0.1458\n",
      "Epoch [600/1000], Loss: 0.0889\n",
      "Epoch [700/1000], Loss: 0.0676\n",
      "Epoch [800/1000], Loss: 0.0206\n",
      "Epoch [900/1000], Loss: 0.0071\n",
      "Epoch [1000/1000], Loss: 0.0034\n",
      "equation\n",
      "    y[0] = +3.4002 * x[0] +0.0000 * x[1] -1.2001 * x[2] +0.0070\n",
      "    y[1] = -0.0029 * x[0] +2.6994 * x[1] +0.0017 * x[2] +4.4073\n"
     ]
    }
   ],
   "source": [
    "LRP = Linear_Regression_PyTorch(3,2)\n",
    "LRP.train(x,t,1000,5,0.001)\n",
    "LRP.show_weights()"
   ]
  }
 ],
 "metadata": {
  "kernelspec": {
   "display_name": "Python 3 (ipykernel)",
   "language": "python",
   "name": "python3"
  },
  "language_info": {
   "codemirror_mode": {
    "name": "ipython",
    "version": 3
   },
   "file_extension": ".py",
   "mimetype": "text/x-python",
   "name": "python",
   "nbconvert_exporter": "python",
   "pygments_lexer": "ipython3",
   "version": "3.8.10"
  },
  "orig_nbformat": 4,
  "vscode": {
   "interpreter": {
    "hash": "e55666fbbf217aa3df372b978577f47b6009e2f78e2ec76a584f49cd54a1e62c"
   }
  }
 },
 "nbformat": 4,
 "nbformat_minor": 2
}
