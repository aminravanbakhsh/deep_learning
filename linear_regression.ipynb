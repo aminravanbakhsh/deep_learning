{
 "cells": [
  {
   "attachments": {},
   "cell_type": "markdown",
   "metadata": {},
   "source": [
    "# Imports"
   ]
  },
  {
   "cell_type": "code",
   "execution_count": 30,
   "metadata": {},
   "outputs": [],
   "source": [
    "import numpy as np\n",
    "import torch"
   ]
  },
  {
   "attachments": {},
   "cell_type": "markdown",
   "metadata": {},
   "source": [
    "# Data\n",
    "\n",
    "$ \n",
    "y0 = 3.4  x_{0} - 1.2 x_{2} \\\\\n",
    "y1 = 2.7 x_{1} + 4.5\n",
    "$"
   ]
  },
  {
   "cell_type": "code",
   "execution_count": 31,
   "metadata": {},
   "outputs": [],
   "source": [
    "n_data = 20\n",
    "n_f = 3\n",
    "n_o = 2\n",
    "\n",
    "x = np.random.uniform(-10, 10, (n_data, n_f))\n",
    "w0 = np.array([[3.4, 0, -1.2], [0,2.7,0]])\n",
    "b0 = np.array([0, 4.5])\n",
    "t = np.dot(x, w0.T) + b0\n",
    "\n",
    "x = torch.tensor(x)\n",
    "t = torch.tensor(t)"
   ]
  },
  {
   "attachments": {},
   "cell_type": "markdown",
   "metadata": {},
   "source": [
    "# Creating a linear regression from scratch"
   ]
  },
  {
   "cell_type": "code",
   "execution_count": 60,
   "metadata": {},
   "outputs": [],
   "source": [
    "class Linear_Regression:\n",
    "    def __init__(self, n_features, n_outputs) -> None:\n",
    "        self.n_f = n_features\n",
    "        self.n_o = n_outputs\n",
    "        self.w = torch.rand((self.n_o, self.n_f), dtype=torch.float64, requires_grad=True)\n",
    "        self.b = torch.rand(self.n_o, dtype=torch.float64, requires_grad=True)\n",
    "\n",
    "    def predict(self, x):\n",
    "        return torch.matmul(x, self.w.T) + self.b\n",
    "\n",
    "    def MSE(self, t, y):\n",
    "        diff = t - y\n",
    "        return torch.sum(diff * diff) / diff.numel()\n",
    "\n",
    "    def train(self, x, t, n_epochs, lr):\n",
    "        for e in range(n_epochs):\n",
    "            y = self.predict(x)\n",
    "            loss = self.MSE(t, y)\n",
    "            loss.backward()\n",
    "            with torch.no_grad():\n",
    "                w -= w.grad * lr\n",
    "                b -= b.grad * lr\n",
    "                w.grad.zero_()\n",
    "                b.grad.zero_()\n"
   ]
  }
 ],
 "metadata": {
  "kernelspec": {
   "display_name": "Python 3 (ipykernel)",
   "language": "python",
   "name": "python3"
  },
  "language_info": {
   "codemirror_mode": {
    "name": "ipython",
    "version": 3
   },
   "file_extension": ".py",
   "mimetype": "text/x-python",
   "name": "python",
   "nbconvert_exporter": "python",
   "pygments_lexer": "ipython3",
   "version": "3.8.10"
  },
  "orig_nbformat": 4,
  "vscode": {
   "interpreter": {
    "hash": "e55666fbbf217aa3df372b978577f47b6009e2f78e2ec76a584f49cd54a1e62c"
   }
  }
 },
 "nbformat": 4,
 "nbformat_minor": 2
}
