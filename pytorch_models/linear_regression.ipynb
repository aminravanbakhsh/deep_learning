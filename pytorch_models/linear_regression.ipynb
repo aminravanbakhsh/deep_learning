{
 "cells": [
  {
   "attachments": {},
   "cell_type": "markdown",
   "metadata": {},
   "source": [
    "# Imports"
   ]
  },
  {
   "cell_type": "code",
   "execution_count": 2,
   "metadata": {
    "vscode": {
     "languageId": "python"
    }
   },
   "outputs": [],
   "source": [
    "import numpy as np\n",
    "import torch\n",
    "import torch.nn as nn\n",
    "from torch.utils.data import TensorDataset, DataLoader"
   ]
  },
  {
   "attachments": {},
   "cell_type": "markdown",
   "metadata": {},
   "source": [
    "# Data\n",
    "\n",
    "$ \n",
    "y0 = 3.4  x_{0} - 1.2 x_{2} \\\\\n",
    "y1 = 2.7 x_{1} + 4.5\n",
    "$"
   ]
  },
  {
   "cell_type": "code",
   "execution_count": 3,
   "metadata": {
    "vscode": {
     "languageId": "python"
    }
   },
   "outputs": [],
   "source": [
    "n_data = 20\n",
    "n_f = 3\n",
    "n_o = 2\n",
    "\n",
    "x = np.random.uniform(-10, 10, (n_data, n_f))\n",
    "w0 = np.array([[3.4, 0, -1.2], [0,2.7,0]])\n",
    "b0 = np.array([0, 4.5])\n",
    "t = np.dot(x, w0.T) + b0\n",
    "\n",
    "x = torch.tensor(x)\n",
    "t = torch.tensor(t)"
   ]
  },
  {
   "attachments": {},
   "cell_type": "markdown",
   "metadata": {},
   "source": [
    "# Creating a linear regression from scratch"
   ]
  },
  {
   "cell_type": "code",
   "execution_count": 4,
   "metadata": {
    "vscode": {
     "languageId": "python"
    }
   },
   "outputs": [],
   "source": [
    "class Linear_Regression:\n",
    "    def __init__(self, n_features, n_outputs) -> None:\n",
    "        self.n_f = n_features\n",
    "        self.n_o = n_outputs\n",
    "        self.w = torch.rand((self.n_o, self.n_f), dtype=torch.float64, requires_grad=True)\n",
    "        self.b = torch.rand(self.n_o, dtype=torch.float64, requires_grad=True)\n",
    "\n",
    "    def predict(self, x):\n",
    "        return torch.matmul(x, self.w.T) + self.b\n",
    "\n",
    "    def MSE(self, t, y):\n",
    "        diff = t - y\n",
    "        return torch.sum(diff * diff) / diff.numel()\n",
    "\n",
    "    def train(self, x, t, n_epochs, lr):\n",
    "        for e in range(n_epochs):\n",
    "            y = self.predict(x)\n",
    "            loss = self.MSE(t, y)\n",
    "            loss.backward()\n",
    "            with torch.no_grad():\n",
    "                self.w -= self.w.grad * lr\n",
    "                self.b -= self.b.grad * lr\n",
    "                self.w.grad.zero_()\n",
    "                self.b.grad.zero_()\n",
    "\n",
    "    def show_weights(self):\n",
    "        print(\"equation\")\n",
    "\n",
    "        for i in range(self.n_o):\n",
    "            equation = \"    y[{}] = \".format(i)\n",
    "            for j in range(self.n_f):\n",
    "                op = \"+\"\n",
    "                if self.w[i][j] < 0:\n",
    "                    op = \"-\"\n",
    "\n",
    "                equation += \" {}{:.4f} * x[{}]\".format(op, torch.abs(self.w[i][j]), j)\n",
    "\n",
    "            op = \"+\"\n",
    "            if self.b[i] < 0:\n",
    "                op = \"-\"\n",
    "                \n",
    "            \n",
    "            equation += \" {}{:.4f}\".format(op, torch.abs(self.b[i]))\n",
    "        \n",
    "            print(equation)\n"
   ]
  },
  {
   "cell_type": "code",
   "execution_count": 5,
   "metadata": {
    "vscode": {
     "languageId": "python"
    }
   },
   "outputs": [
    {
     "name": "stdout",
     "output_type": "stream",
     "text": [
      "equation\n",
      "    y[0] =  +3.4224 * x[0] -0.0110 * x[1] -1.1896 * x[2] +0.2702\n",
      "    y[1] =  -0.1691 * x[0] +2.7828 * x[1] -0.0782 * x[2] +2.4618\n"
     ]
    }
   ],
   "source": [
    "LR = Linear_Regression(3, 2)\n",
    "LR.train(x,t, 1000, 0.001)\n",
    "LR.show_weights()"
   ]
  },
  {
   "attachments": {},
   "cell_type": "markdown",
   "metadata": {},
   "source": [
    "# Linear Regression by PyTorch"
   ]
  },
  {
   "cell_type": "code",
   "execution_count": 6,
   "metadata": {
    "vscode": {
     "languageId": "python"
    }
   },
   "outputs": [],
   "source": [
    "train_ds = TensorDataset(x, t)\n",
    "train_dl = DataLoader(train_ds, 5, shuffle=True)"
   ]
  },
  {
   "cell_type": "code",
   "execution_count": 7,
   "metadata": {
    "vscode": {
     "languageId": "python"
    }
   },
   "outputs": [],
   "source": [
    "class Linear_Regression_PyTorch:\n",
    "    def __init__(self, n_features, n_outputs) -> None:\n",
    "        self.n_f = n_features\n",
    "        self.n_o = n_outputs\n",
    "        self.model = nn.Linear(self.n_f, self.n_o, dtype=torch.float64)\n",
    "\n",
    "\n",
    "    def predict(self, x):\n",
    "        return self.model(x)\n",
    "\n",
    "\n",
    "    def train(self, x, t, n_epochs, batch_size, lr):\n",
    "        train_ds = TensorDataset(x, t)\n",
    "        train_dl = DataLoader(train_ds, batch_size, shuffle=True)\n",
    "        opt = torch.optim.SGD(self.model.parameters(), lr=lr)\n",
    "\n",
    "        for e in range(n_epochs):\n",
    "            for xs, ts in train_dl:\n",
    "                ys = self.model(xs)\n",
    "                loss = torch.nn.functional.mse_loss(ys, ts)\n",
    "                loss.backward()\n",
    "                opt.step()\n",
    "                opt.zero_grad()\n",
    "\n",
    "            if (e + 1) % (n_epochs/10) == 0:\n",
    "                print('Epoch [{}/{}], Loss: {:.4f}'.format(e+1, n_epochs, loss.item()))\n",
    "\n",
    "\n",
    "    def show_weights(self):\n",
    "        print(\"equation\")\n",
    "        w = self.model.weight\n",
    "        b = self.model.bias\n",
    "\n",
    "        for i in range(self.n_o):\n",
    "            equation = \"    y[{}] =\".format(i)\n",
    "            for j in range(self.n_f):\n",
    "                op = \"+\"\n",
    "                if w[i][j] < 0:\n",
    "                    op = \"-\"\n",
    "\n",
    "                equation += \" {}{:.4f} * x[{}]\".format(op, torch.abs(w[i][j]), j)\n",
    "\n",
    "            op = \"+\"\n",
    "            if b[i] < 0:\n",
    "                op = \"-\"\n",
    "                \n",
    "            \n",
    "            equation += \" {}{:.4f}\".format(op, torch.abs(b[i]))\n",
    "        \n",
    "            print(equation)"
   ]
  },
  {
   "cell_type": "code",
   "execution_count": 11,
   "metadata": {
    "vscode": {
     "languageId": "python"
    }
   },
   "outputs": [
    {
     "name": "stdout",
     "output_type": "stream",
     "text": [
      "Epoch [1000/10000], Loss: 1.2569\n",
      "Epoch [2000/10000], Loss: 0.3063\n",
      "Epoch [3000/10000], Loss: 0.0747\n",
      "Epoch [4000/10000], Loss: 0.0182\n",
      "Epoch [5000/10000], Loss: 0.0044\n",
      "Epoch [6000/10000], Loss: 0.0011\n",
      "Epoch [7000/10000], Loss: 0.0003\n",
      "Epoch [8000/10000], Loss: 0.0001\n",
      "Epoch [9000/10000], Loss: 0.0000\n",
      "Epoch [10000/10000], Loss: 0.0000\n",
      "equation\n",
      "    y[0] = +3.4000 * x[0] -0.0000 * x[1] -1.2000 * x[2] +0.0003\n",
      "    y[1] = -0.0003 * x[0] +2.7001 * x[1] -0.0001 * x[2] +4.4967\n"
     ]
    }
   ],
   "source": [
    "LRP = Linear_Regression_PyTorch(3,2)\n",
    "LRP.train(x,t,10000,20,0.001)\n",
    "LRP.show_weights()"
   ]
  }
 ],
 "metadata": {
  "kernelspec": {
   "display_name": "Python 3 (ipykernel)",
   "language": "python",
   "name": "python3"
  },
  "orig_nbformat": 4,
  "vscode": {
   "interpreter": {
    "hash": "e55666fbbf217aa3df372b978577f47b6009e2f78e2ec76a584f49cd54a1e62c"
   }
  }
 },
 "nbformat": 4,
 "nbformat_minor": 2
}
