{
 "cells": [
  {
   "attachments": {},
   "cell_type": "markdown",
   "metadata": {},
   "source": [
    "# Imports"
   ]
  },
  {
   "cell_type": "code",
   "execution_count": 2,
   "metadata": {
    "vscode": {
     "languageId": "python"
    }
   },
   "outputs": [],
   "source": [
    "import torch\n",
    "import torch.nn as nn\n",
    "import numpy as np\n",
    "from torch.utils.data import DataLoader, TensorDataset"
   ]
  },
  {
   "cell_type": "code",
   "execution_count": 3,
   "metadata": {
    "vscode": {
     "languageId": "python"
    }
   },
   "outputs": [
    {
     "name": "stdout",
     "output_type": "stream",
     "text": [
      "total [GB] : 4.0000\n",
      "free  [GB] : 3.9417\n",
      "used  [GB] : 0.0583\n"
     ]
    }
   ],
   "source": [
    "import pynvml\n",
    "\n",
    "def GPU_info(gpu_index = 0):\n",
    "    \"\"\"\n",
    "        GPU memory informations\n",
    "    \"\"\"\n",
    "\n",
    "    pynvml.nvmlInit()\n",
    "    handle = pynvml.nvmlDeviceGetHandleByIndex(int(gpu_index))\n",
    "    info = pynvml.nvmlDeviceGetMemoryInfo(handle)\n",
    "    print('total [GB] : {:.4f}'.format(info.total/(2**30)))\n",
    "    print('free  [GB] : {:.4f}'.format(info.free/(2**30)))\n",
    "    print('used  [GB] : {:.4f}'.format(info.used/(2**30)))\n",
    "\n",
    "    \n",
    "GPU_info()"
   ]
  },
  {
   "attachments": {},
   "cell_type": "markdown",
   "metadata": {},
   "source": [
    "# Check GPU is available"
   ]
  },
  {
   "cell_type": "code",
   "execution_count": 151,
   "metadata": {
    "vscode": {
     "languageId": "python"
    }
   },
   "outputs": [
    {
     "name": "stdout",
     "output_type": "stream",
     "text": [
      "Cuda informations:\n",
      "__CUDNN VERSION: 7605\n",
      "__Number CUDA Devices: 1\n",
      "__CUDA Device Name: NVIDIA GeForce GTX 960M\n",
      "__CUDA Device Total Memory [GB]: 3.949462890625\n",
      "Device: cuda\n"
     ]
    }
   ],
   "source": [
    "use_cuda = torch.cuda.is_available()\n",
    "if use_cuda:\n",
    "    print('Cuda informations:')\n",
    "    print('__CUDNN VERSION:', torch.backends.cudnn.version())\n",
    "    print('__Number CUDA Devices:', torch.cuda.device_count())\n",
    "    print('__CUDA Device Name:',torch.cuda.get_device_name(0))\n",
    "    print('__CUDA Device Total Memory [GB]:',torch.cuda.get_device_properties(0).total_memory/(2**30))\n",
    "\n",
    "device = torch.device(\"cuda\" if use_cuda else \"cpu\")\n",
    "print(\"Device:\", device)"
   ]
  },
  {
   "cell_type": "code",
   "execution_count": 150,
   "metadata": {
    "vscode": {
     "languageId": "python"
    }
   },
   "outputs": [],
   "source": [
    "class SampleNN(torch.nn.Module):\n",
    "    def __init__(self, input, output) -> None:\n",
    "        super().__init__()\n",
    "        l_size = 500\n",
    "        self.model = torch.nn.Sequential(\n",
    "            torch.nn.Linear(input, l_size),\n",
    "            torch.nn.Linear(l_size, output)\n",
    "        )\n",
    "\n",
    "    def forward(self, xb):\n",
    "        return self.model(xb)"
   ]
  },
  {
   "cell_type": "code",
   "execution_count": 168,
   "metadata": {
    "vscode": {
     "languageId": "python"
    }
   },
   "outputs": [],
   "source": [
    "NN_GPU = SampleNN(10, 3)\n",
    "NN_GPU = NN_GPU.to(device)"
   ]
  },
  {
   "cell_type": "code",
   "execution_count": 1,
   "metadata": {
    "vscode": {
     "languageId": "python"
    }
   },
   "outputs": [
    {
     "ename": "NameError",
     "evalue": "name 'torch' is not defined",
     "output_type": "error",
     "traceback": [
      "\u001b[0;31m---------------------------------------------------------------------------\u001b[0m",
      "\u001b[0;31mNameError\u001b[0m                                 Traceback (most recent call last)",
      "\u001b[1;32m/home/amin/learning/deep-learning/working_with-GPU.ipynb Cell 8\u001b[0m in \u001b[0;36m<cell line: 1>\u001b[0;34m()\u001b[0m\n\u001b[0;32m----> <a href='vscode-notebook-cell:/home/amin/learning/deep-learning/working_with-GPU.ipynb#X10sZmlsZQ%3D%3D?line=0'>1</a>\u001b[0m x_gpu \u001b[39m=\u001b[39m torch\u001b[39m.\u001b[39mtensor(np\u001b[39m.\u001b[39mrandom\u001b[39m.\u001b[39mnormal(size\u001b[39m=\u001b[39m(\u001b[39m100\u001b[39m, \u001b[39m10\u001b[39m)))\u001b[39m.\u001b[39mtype(torch\u001b[39m.\u001b[39mfloat32)\u001b[39m.\u001b[39mto(device)\n\u001b[1;32m      <a href='vscode-notebook-cell:/home/amin/learning/deep-learning/working_with-GPU.ipynb#X10sZmlsZQ%3D%3D?line=1'>2</a>\u001b[0m y_gpu \u001b[39m=\u001b[39m torch\u001b[39m.\u001b[39mtensor(np\u001b[39m.\u001b[39mrandom\u001b[39m.\u001b[39mnormal(size\u001b[39m=\u001b[39m(\u001b[39m100\u001b[39m, \u001b[39m10\u001b[39m)))\u001b[39m.\u001b[39mtype(torch\u001b[39m.\u001b[39mfloat32)\u001b[39m.\u001b[39mto(device)\n\u001b[1;32m      <a href='vscode-notebook-cell:/home/amin/learning/deep-learning/working_with-GPU.ipynb#X10sZmlsZQ%3D%3D?line=4'>5</a>\u001b[0m \u001b[39m# x = x.to(device)\u001b[39;00m\n",
      "\u001b[0;31mNameError\u001b[0m: name 'torch' is not defined"
     ]
    }
   ],
   "source": [
    "x_gpu = torch.tensor(np.random.normal(size=(100, 10))).type(torch.float32).to(device)\n",
    "y_gpu = torch.tensor(np.random.normal(size=(100, 10))).type(torch.float32).to(device)\n",
    "\n",
    "\n",
    "# x = x.to(device)\n",
    "NN_GPU.forward(x_gpu)"
   ]
  },
  {
   "cell_type": "code",
   "execution_count": 172,
   "metadata": {
    "vscode": {
     "languageId": "python"
    }
   },
   "outputs": [
    {
     "name": "stdout",
     "output_type": "stream",
     "text": [
      "total [GB] : 4.0000\n",
      "free  [GB] : 0.0065\n",
      "used  [GB] : 3.9935\n"
     ]
    }
   ],
   "source": [
    "import gc\n",
    "torch.cuda.empty_cache()\n",
    "gc.collect()\n",
    "\n",
    "GPU_info()"
   ]
  },
  {
   "cell_type": "code",
   "execution_count": 166,
   "metadata": {
    "vscode": {
     "languageId": "python"
    }
   },
   "outputs": [
    {
     "data": {
      "text/plain": [
       "0"
      ]
     },
     "execution_count": 166,
     "metadata": {},
     "output_type": "execute_result"
    }
   ],
   "source": [
    "import gc\n",
    "torch.cuda.empty_cache()\n",
    "gc.collect()"
   ]
  },
  {
   "cell_type": "code",
   "execution_count": null,
   "metadata": {
    "vscode": {
     "languageId": "python"
    }
   },
   "outputs": [],
   "source": []
  }
 ],
 "metadata": {
  "kernelspec": {
   "display_name": "Python 3 (ipykernel)",
   "language": "python",
   "name": "python3"
  },
  "orig_nbformat": 4,
  "vscode": {
   "interpreter": {
    "hash": "da2b001169d3b5b76bb96949a15de73630c44c7740c04f51737f8428e11fbe92"
   }
  }
 },
 "nbformat": 4,
 "nbformat_minor": 2
}
